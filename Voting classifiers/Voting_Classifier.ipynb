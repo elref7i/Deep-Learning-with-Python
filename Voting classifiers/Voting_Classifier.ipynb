{
 "cells": [
  {
   "cell_type": "code",
   "execution_count": 11,
   "metadata": {},
   "outputs": [
    {
     "name": "stdout",
     "output_type": "stream",
     "text": [
      "VotingClassifierModel Train Score is :  0.963254593175853\n",
      "VotingClassifierModel Test Score is :  0.9627659574468085\n",
      "----------------------------------------------------\n",
      "Predicted Value for VotingClassifierModel is :  [0 0 1 0 1 1 1 1 0 1 1 1 0 0 1 1 1 0 0 1 1 1 1 1 1 1 1 1 0 1 1 1 1 1 1 1 1\n",
      " 1 1 1 1 1 0 1 1 1 1 1 1 0 1 1 1 0 1 0 0 1 1 1 1 1 1 0 1 0 0 1 0 0 0 1 0 1\n",
      " 1 0 0 1 0 1 1 1 1 1 1 0 1 1 1 0 1 1 1 1 1 1 0 1 1 0 1 0 0 1 0 1 1 0 0 1 0\n",
      " 0 0 0 1 1 1 1 1 1 0 1 1 0 0 0 0 1 1 0 1 1 1 1 1 1 1 1 1 1 0 1 1 0 1 1 0 0\n",
      " 0 1 1 0 0 0 1 0 1 1 0 0 0 1 0 1 0 0 0 1 1 1 1 1 1 1 0 0 1 1 1 1 1 1 0 1 1\n",
      " 1 1 0]\n",
      "Confusion Matrix is : \n",
      " [[ 62   6]\n",
      " [  1 119]]\n"
     ]
    },
    {
     "data": {
      "image/png": "[encoded data removed]",
      "text/plain": [
       "<Figure size 640x480 with 2 Axes>"
      ]
     },
     "metadata": {},
     "output_type": "display_data"
    }
   ],
   "source": [
    "# Import Libraries\n",
    "from sklearn.datasets import load_breast_cancer\n",
    "from sklearn.model_selection import train_test_split\n",
    "from sklearn.ensemble import VotingClassifier\n",
    "from sklearn.tree import DecisionTreeClassifier\n",
    "from sklearn.discriminant_analysis import LinearDiscriminantAnalysis\n",
    "from sklearn.linear_model import SGDClassifier \n",
    "from sklearn.metrics import confusion_matrix\n",
    "import seaborn as sns\n",
    "import matplotlib.pyplot as plt\n",
    "\n",
    "# Load breast cancer data\n",
    "BreastData = load_breast_cancer()\n",
    "\n",
    "# x Data, y Data\n",
    "x = BreastData.data\n",
    "y = BreastData.target\n",
    "\n",
    "# Splitting data\n",
    "x_train, x_test, y_train, y_test = train_test_split(x, y, test_size=0.33, random_state=44, shuffle=True)\n",
    "\n",
    "# Applying VotingClassifier Model\n",
    "DTModel_ = DecisionTreeClassifier(criterion='entropy', max_depth=3, random_state=33)\n",
    "LDAModel_ = LinearDiscriminantAnalysis(n_components=1, solver='svd')\n",
    "SGDModel_ = SGDClassifier(loss='log', penalty='l2', max_iter=10000, tol=1e-5)\n",
    "\n",
    "# Loading Voting Classifier\n",
    "VotingClassifierModel = VotingClassifier(estimators=[('DTModel', DTModel_), ('LDAModel', LDAModel_), ('SGDModel', SGDModel_)], voting='hard')\n",
    "VotingClassifierModel.fit(x_train, y_train)\n",
    "\n",
    "# Calculating Details\n",
    "print('VotingClassifierModel Train Score is : ', VotingClassifierModel.score(x_train, y_train))\n",
    "print('VotingClassifierModel Test Score is : ', VotingClassifierModel.score(x_test, y_test))\n",
    "print('----------------------------------------------------')\n",
    "\n",
    "# Calculating Prediction\n",
    "y_pred = VotingClassifierModel.predict(x_test)\n",
    "print('Predicted Value for VotingClassifierModel is : ', y_pred[:10])\n",
    "\n",
    "# Calculating Confusion Matrix\n",
    "CM = confusion_matrix(y_test, y_pred)\n",
    "print('Confusion Matrix is : \\n', CM)\n",
    "\n",
    "# Drawing confusion matrix\n",
    "sns.heatmap(CM, center=True)\n",
    "plt.title('Confusion Matrix')\n",
    "plt.show()\n"
   ]
  }
 ],
 "metadata": {
  "kernelspec": {
   "display_name": "base",
   "language": "python",
   "name": "python3"
  },
  "language_info": {
   "codemirror_mode": {
    "name": "ipython",
    "version": 3
   },
   "file_extension": ".py",
   "mimetype": "text/x-python",
   "name": "python",
   "nbconvert_exporter": "python",
   "pygments_lexer": "ipython3",
   "version": "3.9.13"
  }
 },
 "nbformat": 4,
 "nbformat_minor": 2
}
